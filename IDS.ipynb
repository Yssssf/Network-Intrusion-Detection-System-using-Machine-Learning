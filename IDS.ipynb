{
 "cells": [
  {
   "cell_type": "markdown",
   "metadata": {},
   "source": [
    "### Requirments\n",
    "# You need to install these packages\n",
    "- Python\n",
    "- Pandas\n",
    "- Numpy\n",
    "- Matplotlib\n",
    "- Seaborn\n",
    "- IPython\n",
    "- Scikit-learn\n",
    "# Or just install **Anaconda** on your system (AS I did)"
   ]
  },
  {
   "cell_type": "code",
   "execution_count": 1,
   "metadata": {},
   "outputs": [],
   "source": [
    "# Importing necessary libraries\n",
    "import pandas as pd\n",
    "import numpy as np\n",
    "import matplotlib.pyplot as plt\n",
    "import seaborn as sns\n",
    "from sklearn.model_selection import train_test_split\n",
    "from sklearn.ensemble import RandomForestClassifier\n",
    "from sklearn.metrics import classification_report, confusion_matrix\n",
    "\n",
    "# Setting up the style for plots\n",
    "sns.set(style=\"whitegrid\")\n"
   ]
  },
  {
   "cell_type": "markdown",
   "metadata": {},
   "source": [
    "# Network Intrusion Detection System using Machine Learning\n",
    "\n",
    "## Overview\n",
    "This project demonstrates the development of a machine learning-based Network Intrusion Detection System (IDS) to identify potential threats within network traffic. We use a labeled dataset of network traffic (e.g., the NSL-KDD dataset) and train a classification model to detect different types of intrusions."
   ]
  },
  {
   "cell_type": "markdown",
   "metadata": {},
   "source": [
    "## Problem Statement\n",
    "\n",
    "As cyber-attacks become more complex, traditional rule-based IDS systems struggle to detect newer, more sophisticated attack types like zero-day attacks. Our goal is to leverage machine learning to detect such intrusions in real-time while minimising false positives."
   ]
  },
  {
   "cell_type": "code",
   "execution_count": null,
   "metadata": {},
   "outputs": [],
   "source": [
    "# Loading the dataset (assuming it's in CSV format)\n",
    "df = pd.read_csv(\"NSL_KDD_Train.csv\")\n",
    "\n",
    "# Show first 5 rows of the data\n",
    "df.head()"
   ]
  },
  {
   "cell_type": "markdown",
   "metadata": {},
   "source": [
    "### Rename the columens of dataset\n",
    "Rename some of the columesns of dataset to be more understandable."
   ]
  },
  {
   "cell_type": "code",
   "execution_count": 3,
   "metadata": {},
   "outputs": [],
   "source": [
    "\n",
    "df.rename(columns={'0': 'duration'}, inplace=True)\n",
    "df.rename(columns={'tcp': 'protocol_type'}, inplace=True)\n",
    "df.rename(columns={'ftp_data': 'service'}, inplace=True)\n",
    "df.rename(columns={'SF': 'flag'}, inplace=True)\n",
    "df.rename(columns={'491': 'src_bytes'}, inplace=True)\n",
    "df.rename(columns={'0.1': 'dst_bytes'}, inplace=True)\n",
    "df.rename(columns={'normal': 'label'}, inplace=True)"
   ]
  },
  {
   "cell_type": "markdown",
   "metadata": {},
   "source": [
    "### Data Overview\n",
    "The dataset contains the following columns: \n",
    "\n",
    "- `duration`: Length of the connection\n",
    "- `protocol_type`: Type of protocol (TCP, UDP, etc.)\n",
    "- `service`: Network service on the destination (e.g., HTTP, FTP)\n",
    "- `flag`: Status of the connection\n",
    "- `src_bytes`: Number of data bytes sent from source to destination\n",
    "- `dst_bytes`: Number of data bytes sent from destination to source\n",
    "- ... (List the most relevant features).\n",
    "\n",
    "The target variable is `label`, which identifies whether the connection was normal or an attack."
   ]
  },
  {
   "cell_type": "markdown",
   "metadata": {},
   "source": [
    "## Exploratory Data Analysis (EDA)"
   ]
  },
  {
   "cell_type": "code",
   "execution_count": null,
   "metadata": {},
   "outputs": [],
   "source": [
    "# Plot the distribution of attacks vs normal traffic\n",
    "plt.figure(figsize=(8,5))\n",
    "sns.countplot(x='label', data=df)\n",
    "plt.title(\"Distribution of Attacks vs Normal Traffic\")\n",
    "plt.show()\n",
    "\n",
    "# Show correlation between features\n",
    "df_numeric = df.select_dtypes(include=[np.number])\n",
    "plt.figure(figsize=(12,8))\n",
    "sns.heatmap(df_numeric.corr(), cmap='coolwarm', annot=False)\n",
    "plt.title(\"Correlation between Features\")\n",
    "plt.show()"
   ]
  },
  {
   "cell_type": "markdown",
   "metadata": {},
   "source": [
    "## Data Preprocessing"
   ]
  },
  {
   "cell_type": "code",
   "execution_count": 5,
   "metadata": {},
   "outputs": [],
   "source": [
    "# Label Encoding for categorical variables\n",
    "# Convert categorical columns to numeric using label encoding\n",
    "df['protocol_type'] = df['protocol_type'].astype('category').cat.codes\n",
    "df['service'] = df['service'].astype('category').cat.codes\n",
    "df['flag'] = df['flag'].astype('category').cat.codes\n",
    "# One-Hot Encoding for categorical variables\n",
    "df_encoded = pd.get_dummies(df, columns=['protocol_type', 'service', 'flag'])\n",
    "\n",
    "\n",
    "# Splitting data into features (X) and labels (y)\n",
    "X = df.drop('label', axis=1)\n",
    "y = df['label']\n",
    "\n",
    "# Train-test split (70% train, 30% test)\n",
    "X_train, X_test, y_train, y_test = train_test_split(X, y, test_size=0.3, random_state=42)\n",
    "\n"
   ]
  },
  {
   "cell_type": "markdown",
   "metadata": {},
   "source": [
    "## Checking if all  the sets are integrated"
   ]
  },
  {
   "cell_type": "code",
   "execution_count": null,
   "metadata": {},
   "outputs": [],
   "source": [
    "print(X_train.dtypes)\n",
    "\n",
    "print(y_train.dtypes)"
   ]
  },
  {
   "cell_type": "markdown",
   "metadata": {},
   "source": [
    "## Model Training"
   ]
  },
  {
   "cell_type": "code",
   "execution_count": 7,
   "metadata": {},
   "outputs": [],
   "source": [
    "# Training a Random Forest Classifier\n",
    "model = RandomForestClassifier(n_estimators=100, random_state=42)\n",
    "model.fit(X_train, y_train)\n",
    "\n",
    "# Predictions on the test set\n",
    "y_pred = model.predict(X_test)"
   ]
  },
  {
   "cell_type": "markdown",
   "metadata": {},
   "source": [
    "## Model Evaluation"
   ]
  },
  {
   "cell_type": "code",
   "execution_count": null,
   "metadata": {},
   "outputs": [],
   "source": [
    "# Confusion Matrix\n",
    "conf_matrix = confusion_matrix(y_test, y_pred)\n",
    "plt.figure(figsize=(8,6))\n",
    "sns.heatmap(conf_matrix, annot=True, fmt=\"d\", cmap=\"Blues\", xticklabels=['Normal','Attack'], yticklabels=['Normal','Attack'])\n",
    "plt.title(\"Confusion Matrix\")\n",
    "plt.ylabel('Actual')\n",
    "plt.xlabel('Predicted')\n",
    "plt.show()\n",
    "\n",
    "# Classification Report\n",
    "print(classification_report(y_test, y_pred, zero_division=0))"
   ]
  },
  {
   "cell_type": "markdown",
   "metadata": {},
   "source": [
    "## Insights\n",
    "\n",
    "- The model shows an accuracy of **X%** in identifying network intrusions.\n",
    "- The confusion matrix indicates that most attacks were correctly identified, but there are some false positives (normal traffic misclassified as attacks).\n",
    "- Feature importance analysis reveals that features like `src_bytes`, `dst_bytes`, and `protocol_type` play key roles in the detection.\n",
    "\n",
    "## Conclusion\n",
    "\n",
    "This machine learning-based IDS provides a promising approach to detecting network intrusions. However, to improve the accuracy and reduce false positives, further tuning of the model or incorporating additional data (e.g., behavioral patterns) could be beneficial.\n"
   ]
  }
 ],
 "metadata": {
  "kernelspec": {
   "display_name": "base",
   "language": "python",
   "name": "python3"
  },
  "language_info": {
   "codemirror_mode": {
    "name": "ipython",
    "version": 3
   },
   "file_extension": ".py",
   "mimetype": "text/x-python",
   "name": "python",
   "nbconvert_exporter": "python",
   "pygments_lexer": "ipython3",
   "version": "3.12.2"
  }
 },
 "nbformat": 4,
 "nbformat_minor": 2
}
